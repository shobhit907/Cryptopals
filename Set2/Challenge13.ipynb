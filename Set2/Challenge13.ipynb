{
 "cells": [
  {
   "cell_type": "code",
   "execution_count": 13,
   "metadata": {},
   "outputs": [],
   "source": [
    "def parse(s):\n",
    "    ret=\"{\\n\"\n",
    "    i1=s.find('=',0)\n",
    "    i2=s.find('&',0)\n",
    "    prev_v=0\n",
    "    while(i1!=-1 and i2!=-1):\n",
    "        s1=s[prev_v:i1]\n",
    "        s2=s[i1+1:i2]\n",
    "        prev_v=i2+1\n",
    "        ret+=\"\\t\"+s1+\": '\"+s2+\"',\\n\"\n",
    "        i1=s.find('=',i2+1)\n",
    "        i2=s.find('&',i2+1)\n",
    "    if(i1!=-1):\n",
    "        s1=s[prev_v:i1]\n",
    "        s2=s[i1+1:]\n",
    "        ret+=\"\\t\"+s1+\": '\"+s2+\"',\\n\"\n",
    "    ret=ret[:-2]\n",
    "    ret+='\\n}'\n",
    "    return ret"
   ]
  },
  {
   "cell_type": "code",
   "execution_count": 15,
   "metadata": {},
   "outputs": [
    {
     "name": "stdout",
     "output_type": "stream",
     "text": [
      "{\n",
      "\tfoo: 'bar',\n",
      "\tbaz: 'qux',\n",
      "\tzap: 'zazzle'\n",
      "}\n",
      "{\n",
      "\temail: 'foo@bar.com',\n",
      "\tuid: '10',\n",
      "\trole: 'user'\n",
      "}\n"
     ]
    }
   ],
   "source": [
    "print(parse(\"foo=bar&baz=qux&zap=zazzle\"))\n",
    "print(parse(\"email=foo@bar.com&uid=10&role=user\"))"
   ]
  }
 ],
 "metadata": {
  "kernelspec": {
   "display_name": "Python 3",
   "language": "python",
   "name": "python3"
  },
  "language_info": {
   "codemirror_mode": {
    "name": "ipython",
    "version": 3
   },
   "file_extension": ".py",
   "mimetype": "text/x-python",
   "name": "python",
   "nbconvert_exporter": "python",
   "pygments_lexer": "ipython3",
   "version": "3.7.3"
  }
 },
 "nbformat": 4,
 "nbformat_minor": 2
}

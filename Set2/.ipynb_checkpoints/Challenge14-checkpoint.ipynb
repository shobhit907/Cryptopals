{
 "cells": [
  {
   "cell_type": "code",
   "execution_count": 1,
   "metadata": {},
   "outputs": [],
   "source": [
    "def base64tobin(s):\n",
    "    bin1=\"\"\n",
    "    for x in s:\n",
    "        bin2=\"\"\n",
    "        if(x>='A' and x<='Z'):\n",
    "            bin2=bin(ord(x)-ord('A'))\n",
    "        elif(x>='a' and x<='z'):\n",
    "            bin2=bin(ord(x)-ord('a')+26)\n",
    "        elif(x>='0' and x<='9'):\n",
    "            bin2=bin(ord(x)-ord('0')+52)\n",
    "        elif(x=='+'):\n",
    "            bin2=bin(62)\n",
    "        elif(x=='/'):\n",
    "            bin2=bin(63)\n",
    "        bin2=bin2[2:]\n",
    "        while(len(bin2)<6):\n",
    "            bin2='0'+bin2\n",
    "        bin1+=bin2\n",
    "    return bin1\n",
    "def bintoascii(bin1):\n",
    "    while(len(bin1)%8!=0):\n",
    "        bin1='0'+bin1\n",
    "    ret=\"\"\n",
    "    for i in range(0,len(bin1),8):\n",
    "        ret+=chr(int(bin1[i:i+8],2))\n",
    "    return ret\n",
    "def base64toascii(s):\n",
    "    bin1=base64tobin(s)\n",
    "    return bintoascii(bin1)"
   ]
  },
  {
   "cell_type": "code",
   "execution_count": 48,
   "metadata": {},
   "outputs": [
    {
     "name": "stdout",
     "output_type": "stream",
     "text": [
      "bytearray(b\"\\xb5w\\xe9\\xc4.:\\x1fd\\'\\xea\\xd8R\\xa8T\\x0f\\x9c\\x998\\xa5\\xc1\\xa12\\x02\\x9f\\x8c\\xcf.\\x87\\xfe\\x1dP\\xc9wSFB%{%\\xbbj\\xa9:=\\x13\\xb3\\xc2\\x19\\xc2t\\xf1\\xc3\\xbf\\xc2B{\\xf1\")\n"
     ]
    }
   ],
   "source": [
    "base64str=\"Um9sbGluJyBpbiBteSA1LjAKV2l0aCBteSByYWctdG9wIGRvd24gc28gbXkgaGFpciBjYW4gYmxvdwpUaGUgZ2lybGllcyBvbiBzdGFuZGJ5IHdhdmluZyBqdXN0IHRvIHNheSBoaQpEaWQgeW91IHN0b3A/IE5vLCBJIGp1c3QgZHJvdmUgYnkK\"\n",
    "ascii_str1=base64toascii(base64str)\n",
    "random_prefix=generate_random_bytes(random.randint(0,99))\n",
    "# print(random_prefix)"
   ]
  },
  {
   "cell_type": "code",
   "execution_count": 50,
   "metadata": {},
   "outputs": [],
   "source": [
    "import random\n",
    "from Cryptodome.Cipher import AES\n",
    "def generate_random_bytes(no_of_bytes):\n",
    "    return bytearray([random.randint(0,255) for i in range(no_of_bytes)])\n",
    "def encryption_oracle(s):\n",
    "    s=random_prefix+s+bytearray(ascii_str1,'ISO-8859-1')\n",
    "    reqd=block_size-len(s)%block_size\n",
    "    if(len(s)<block_size):\n",
    "        reqd=block_size-len(s)\n",
    "    if(reqd==0):\n",
    "        reqd=block_size\n",
    "    s+=bytearray([4]*reqd)\n",
    "#     print(s,\" \",len(s))\n",
    "    cipher=AES.new(key,AES.MODE_ECB)\n",
    "    return bytearray(cipher.encrypt(bytes(s)))"
   ]
  },
  {
   "cell_type": "code",
   "execution_count": 51,
   "metadata": {},
   "outputs": [],
   "source": [
    "block_size=16\n",
    "key=bytes(generate_random_bytes(block_size))\n",
    "# print(key)\n",
    "# print(len(key))"
   ]
  },
  {
   "cell_type": "code",
   "execution_count": 52,
   "metadata": {},
   "outputs": [
    {
     "name": "stdout",
     "output_type": "stream",
     "text": [
      "bytearray(b'\\xc2\\np\\xf9\\xee\\x1b\\xd3][\\xc5\\x14/\\xdd\\xc7\\x138Z\\xa3\\xf5[\\xadH\\xc5Bb\\xa4\\xa5\\xf6K\\xde\\xa4\\xde\\xf2*\\x0bsv%\\xddj\\xb8\\xe2m\\x139\\xc0\\x8f\\x96\\xd0)>\\xf6Q\\xb4ll(\\xc4\\xe6\\xff\\xc0~\\x9e\\x11\\xb917X\\xdd\\xb8\\x02\\x19\\x7f\\xe1\\xda0-\\xf3\\xf1m\\xf0\\xb9\\xd9\\x17\\xb3\\x1a\\x01DY\\xfa\\xcf\\xa0\\x9a^\"Q\\x0f\\xf4`\\xb9\\xd6\\xcdQH\\x93\\xf8%\\xf4\\x99;}\\xa9\\xba<\\xe2m3B\\xe5\\xd9\\x87\\xd0\\x12\\x14\\x19\\x89\\xdb\\xa7f\\xe9\\xb18\\x9e\\xc2\\xf5kik\\x99gUH\\xfb\\xc7L \"{\\x8b\\xae\\x87\\xe0\\xbb\\x8e\\xef\\x86\\xe1\\xa7\\xd5\\xf3\\xca\\x1b\\xe1!\\xb0\\x7faK\\xd6Df\\x9a\\xa8^O\\x13\\xa8\\xac\\x99#\\\\\\x15<\\xc8_\\xfcsl\\xd9\\xad\\x95\\x83\\x17\\x85\\xc9P\\xd5H%/?G\\xf0\\x12\\xe8s\\xea\\xb9\\x93\\xa9\\xfc\\xcc\\xe4\\x01\\xa4T\\xda\\xdf\\xfb\\xbc\\xaf9T\\xd4\\x95\\xean\\xd0\\xb4\\x0f\\x18[\\x14PO\\x12C\\xe3\\xfc\\xc5')\n"
     ]
    }
   ],
   "source": [
    "text1=b'Shobhit Gupta123'*2\n",
    "enc1=(encryption_oracle(text1))\n",
    "print(enc1)"
   ]
  },
  {
   "cell_type": "code",
   "execution_count": 53,
   "metadata": {},
   "outputs": [
    {
     "name": "stdout",
     "output_type": "stream",
     "text": [
      "57\n"
     ]
    }
   ],
   "source": [
    "i1=-1\n",
    "text2='Shobhit Gupta123'*2\n",
    "for j in range(0,block_size+1):\n",
    "    enc1=encryption_oracle(bytearray('S'*j+text2,'ISO-8859-1'))\n",
    "    for i in range(0,len(enc1),block_size):\n",
    "        if(i+block_size>len(enc1) or i+2*block_size>len(enc1)):\n",
    "            break\n",
    "        block1=enc1[i:i+block_size]\n",
    "        block2=enc1[i+block_size:i+2*block_size]\n",
    "        if(block1==block2):\n",
    "            i1=i-j\n",
    "            break\n",
    "    if(i1!=-1):\n",
    "        break\n",
    "print(i1)"
   ]
  },
  {
   "cell_type": "code",
   "execution_count": 56,
   "metadata": {},
   "outputs": [
    {
     "name": "stdout",
     "output_type": "stream",
     "text": [
      "16   138\n"
     ]
    }
   ],
   "source": [
    "prev_len=len(encryption_oracle(bytearray())[i1:])\n",
    "# print(prev_len)\n",
    "blocksize=0\n",
    "strlen=0\n",
    "for i in range(1,256):\n",
    "    next_len = len(encryption_oracle(bytearray(b'A'*i))[i1:])\n",
    "    blocksize = next_len-prev_len\n",
    "    if blocksize!= 0:\n",
    "        strlen=prev_len-i\n",
    "        break\n",
    "print(blocksize,\" \",strlen)"
   ]
  },
  {
   "cell_type": "code",
   "execution_count": 61,
   "metadata": {},
   "outputs": [
    {
     "name": "stdout",
     "output_type": "stream",
     "text": [
      "Rollin' in my 5.0\n",
      "With my rag-top down so my hair can blow\n",
      "The girlies on standby waving just to say hi\n",
      "Did you stop? No, I just drove by\n",
      "\n"
     ]
    }
   ],
   "source": [
    "findstr=\"\"\n",
    "pad_strlen=(strlen//block_size+1)*block_size\n",
    "pad_randomlen=(i1//block_size+1)*block_size\n",
    "pad_randomextra=pad_randomlen-i1\n",
    "# print(pad_randomextra)\n",
    "# print(pad_strlen)\n",
    "for i in range(pad_strlen-1,0,-1):\n",
    "    msg2='A'*(i+pad_randomextra)\n",
    "    c1=encryption_oracle(bytearray(msg2,\"ISO-8859-1\"))[pad_randomlen:pad_randomlen+pad_strlen]\n",
    "    for ascii_value in range(0,256):\n",
    "        msg3='A'*(i+pad_randomextra)+findstr+chr(ascii_value)\n",
    "        c2=encryption_oracle(bytearray(msg3,\"ISO-8859-1\"))[pad_randomlen:pad_randomlen+pad_strlen]\n",
    "        if(c1==c2):\n",
    "            findstr+=chr(ascii_value)\n",
    "            break\n",
    "print(findstr[:strlen])"
   ]
  }
 ],
 "metadata": {
  "kernelspec": {
   "display_name": "Python 3",
   "language": "python",
   "name": "python3"
  },
  "language_info": {
   "codemirror_mode": {
    "name": "ipython",
    "version": 3
   },
   "file_extension": ".py",
   "mimetype": "text/x-python",
   "name": "python",
   "nbconvert_exporter": "python",
   "pygments_lexer": "ipython3",
   "version": "3.7.3"
  }
 },
 "nbformat": 4,
 "nbformat_minor": 2
}

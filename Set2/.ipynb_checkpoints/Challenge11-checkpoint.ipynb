{
 "cells": [
  {
   "cell_type": "code",
   "execution_count": 1,
   "metadata": {},
   "outputs": [],
   "source": [
    "import random\n",
    "from Cryptodome.Cipher import AES"
   ]
  },
  {
   "cell_type": "code",
   "execution_count": 2,
   "metadata": {},
   "outputs": [],
   "source": [
    "def generate_random_bytes(no_of_bytes):\n",
    "    return bytes([random.randint(0,255) for i in range(no_of_bytes)])"
   ]
  },
  {
   "cell_type": "code",
   "execution_count": 3,
   "metadata": {},
   "outputs": [
    {
     "name": "stdout",
     "output_type": "stream",
     "text": [
      "b'\\x05\\xc2\\x97\\xb8\\xa7\\xdc\\x9b5\\xad\\xcet\\xa7Qr\\x92\\x82'\n",
      "16\n",
      "\u0005Â¸§Ü5­Ît§Qr\n"
     ]
    }
   ],
   "source": [
    "temp=generate_random_bytes(16)\n",
    "print(temp)\n",
    "print(len(temp))\n",
    "print(temp.decode('ISO-8859-1'))"
   ]
  },
  {
   "cell_type": "code",
   "execution_count": 4,
   "metadata": {},
   "outputs": [],
   "source": [
    "block_size=16\n",
    "def encryption_oracle(s):\n",
    "    s1=generate_random_bytes(8)\n",
    "    s2=generate_random_bytes(8)\n",
    "    b=bytes(s,'ISO-8859-1')\n",
    "    b=bytearray(s1+b+s2)\n",
    "#     print(b)\n",
    "    key=generate_random_bytes(block_size)\n",
    "    ascii_key=key.decode('ISO-8859-1')\n",
    "    print(\"Key is : \",ascii_key,\" \",len(ascii_key))\n",
    "    print(len(b))\n",
    "    while(len(b)%block_size!=0):\n",
    "        b.append(4)\n",
    "    print(len(b))\n",
    "    if(random.randint(0,1)<=1):\n",
    "        cipher=AES.new(key,AES.MODE_ECB)\n",
    "        return cipher.encrypt(bytes(b))"
   ]
  },
  {
   "cell_type": "code",
   "execution_count": 5,
   "metadata": {},
   "outputs": [
    {
     "name": "stdout",
     "output_type": "stream",
     "text": [
      "Key is :  \u0016ÆìT\u0003Ïµ\u001d",
      "hä\u0010òã   16\n",
      "76\n",
      "80\n",
      "È[Nüå:\u0006ÙZ\u0018ÕD$ó?%âËã<e?àðaRç<'ó?%âËã<e?àðaRç<'ó?%âËã<e?àðaRç<'Ú&à\u00192~JÏ\u0000Íøõ\n"
     ]
    }
   ],
   "source": [
    "msg='x'*60\n",
    "enc=encryption_oracle(msg)\n",
    "# print(enc)\n",
    "cipher_text=enc.decode('ISO-8859-1')\n",
    "print(cipher_text)"
   ]
  },
  {
   "cell_type": "code",
   "execution_count": 6,
   "metadata": {},
   "outputs": [
    {
     "name": "stdout",
     "output_type": "stream",
     "text": [
      "['È[\\x97Nüå:\\x06\\x84ÙZ\\x18Õ\\x89D$', \"ó?%âËã<e?àðaRç<'\", \"ó?%âËã<e?àðaRç<'\", \"ó?%âËã<e?àðaRç<'\", 'Ú&à\\x9b\\x192~\\x94JÏ\\x80\\x00Íø\\x91õ']\n",
      "True\n"
     ]
    }
   ],
   "source": [
    "li=[]\n",
    "for i in range(0,len(cipher_text),block_size):\n",
    "    li.append(cipher_text[i:i+block_size])\n",
    "unique_li=set(li)\n",
    "print(li)\n",
    "print(len(unique_li)<len(li))"
   ]
  }
 ],
 "metadata": {
  "kernelspec": {
   "display_name": "Python 3",
   "language": "python",
   "name": "python3"
  },
  "language_info": {
   "codemirror_mode": {
    "name": "ipython",
    "version": 3
   },
   "file_extension": ".py",
   "mimetype": "text/x-python",
   "name": "python",
   "nbconvert_exporter": "python",
   "pygments_lexer": "ipython3",
   "version": "3.7.3"
  }
 },
 "nbformat": 4,
 "nbformat_minor": 2
}

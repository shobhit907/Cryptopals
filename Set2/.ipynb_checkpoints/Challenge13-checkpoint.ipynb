{
 "cells": [
  {
   "cell_type": "code",
   "execution_count": 41,
   "metadata": {},
   "outputs": [],
   "source": [
    "def parse(s):\n",
    "    ret=\"{\\n\"\n",
    "    i1=s.find('=',0)\n",
    "    i2=s.find('&',0)\n",
    "    prev_v=0\n",
    "    while(i1!=-1 and i2!=-1):\n",
    "        s1=s[prev_v:i1]\n",
    "        s2=s[i1+1:i2]\n",
    "        prev_v=i2+1\n",
    "        ret+=\"\\t\"+s1+\": '\"+s2+\"',\\n\"\n",
    "        i1=s.find('=',i2+1)\n",
    "        i2=s.find('&',i2+1)\n",
    "    if(i1!=-1):\n",
    "        s1=s[prev_v:i1]\n",
    "        s2=s[i1+1:]\n",
    "        ret+=\"\\t\"+s1+\": '\"+s2+\"',\\n\"\n",
    "    ret=ret[:-2]\n",
    "    ret+='\\n}'\n",
    "    return ret"
   ]
  },
  {
   "cell_type": "code",
   "execution_count": 42,
   "metadata": {},
   "outputs": [
    {
     "name": "stdout",
     "output_type": "stream",
     "text": [
      "{\n",
      "\tfoo: 'bar',\n",
      "\tbaz: 'qux',\n",
      "\tzap: 'zazzle'\n",
      "}\n",
      "{\n",
      "\temail: 'foo@bar.com',\n",
      "\tuid: '10',\n",
      "\trole: 'user'\n",
      "}\n"
     ]
    }
   ],
   "source": [
    "print(parse(\"foo=bar&baz=qux&zap=zazzle\"))\n",
    "print(parse(\"email=foo@bar.com&uid=10&role=user\"))"
   ]
  },
  {
   "cell_type": "code",
   "execution_count": 54,
   "metadata": {},
   "outputs": [
    {
     "name": "stdout",
     "output_type": "stream",
     "text": [
      "{\n",
      "\temail: 'foo@bar.com',\n",
      "\tuid: '10',\n",
      "\trole: 'user'\n",
      "}\n"
     ]
    }
   ],
   "source": [
    "def profile_for(email):\n",
    "    email=email.replace(\"&\",\"\")\n",
    "    email=email.replace(\"=\",\"\")\n",
    "    return parse(\"email=\"+email+\"&uid=10&role=user\")\n",
    "print(profile_for(\"foo@bar.com\"))"
   ]
  },
  {
   "cell_type": "code",
   "execution_count": 55,
   "metadata": {},
   "outputs": [],
   "source": [
    "import random\n",
    "from Cryptodome.Cipher import AES\n",
    "def generate_random_bytes(no_of_bytes):\n",
    "    return bytearray([random.randint(0,255) for i in range(no_of_bytes)])\n",
    "block_size=16\n",
    "key=bytes(generate_random_bytes(block_size))\n",
    "def do_pad(s):\n",
    "    reqd=block_size-len(s)%block_size\n",
    "    if(len(s)<block_size):\n",
    "        reqd=block_size-len(s)\n",
    "    if(reqd==0):\n",
    "        reqd=block_size\n",
    "    s+=bytearray([4]*reqd)\n",
    "    return s\n",
    "def encryption_oracle(s):\n",
    "    s=do_pad(s)\n",
    "    #     print(s,\" \",len(s))\n",
    "    cipher=AES.new(key,AES.MODE_ECB)\n",
    "    return bytearray(cipher.encrypt(bytes(s)))\n",
    "def decryption_oracle(s):\n",
    "    cipher=AES.new(key,AES.MODE_ECB)\n",
    "    return cipher.decrypt(bytes(s))"
   ]
  },
  {
   "cell_type": "code",
   "execution_count": 56,
   "metadata": {},
   "outputs": [
    {
     "name": "stdout",
     "output_type": "stream",
     "text": [
      "{\n",
      "\temail: 'foo@bar.com',\n",
      "\tuid: '10',\n",
      "\trole: 'user'\n",
      "}\n",
      "bytearray(b'\\x91\\x0c^\\xdc\\xc4B\\x00\\x95\\x82\\x87\\xd2;\\x87\\xba\\xf8\\x180\\xc4\\xdf.\\x84fm\\xc9\\x99\\x13k\\xbfa\\x03\\x07\\xae\\xc6\\xc1\\xee|=\\x00\\x83jp5\\x87\\xa6hN\\x1d\\x8b\\xd0(k\\x1a\\xf2Ub\\xfeP\\xc9>\\x14\\x8d?\\x7f\\xe7')\n",
      "{\n",
      "\temail: 'foo@bar.com',\n",
      "\tuid: '10',\n",
      "\trole: 'user'\n",
      "}\u0004\u0004\u0004\u0004\u0004\u0004\u0004\u0004\u0004\u0004\u0004\u0004\n"
     ]
    }
   ],
   "source": [
    "text=profile_for(\"foo@bar.com\")\n",
    "print(text)\n",
    "enc=encryption_oracle(bytearray(text,'ISO-8859-1'))\n",
    "print(enc)\n",
    "dec=decryption_oracle(enc)\n",
    "print(dec.decode())"
   ]
  },
  {
   "cell_type": "code",
   "execution_count": 70,
   "metadata": {},
   "outputs": [
    {
     "name": "stdout",
     "output_type": "stream",
     "text": [
      "email=SSSSSSSSSSSSSSSSSSS@gmail.com&uid=10&role=\n"
     ]
    }
   ],
   "source": [
    "str1=\"email=@gmail.com&uid=10&role=\"\n",
    "len1=len(str1)\n",
    "# print(len1)\n",
    "len2=3*block_size-len1\n",
    "while(len2<=0):\n",
    "    len2+=block_size\n",
    "str2='S'*len2+\"@gmail.com\"\n",
    "# print(str2)\n",
    "str3=\"email=\"+str2+\"&uid=10&role=\"\n",
    "print(str3)\n",
    "# print(len(str3))"
   ]
  },
  {
   "cell_type": "code",
   "execution_count": 71,
   "metadata": {},
   "outputs": [
    {
     "name": "stdout",
     "output_type": "stream",
     "text": [
      "bytearray(b'\\x82\\xb5\\xab\\x05\\xb8`F\\xb1\\x97(\\xbbd\\x0b\\x81C\\xdf')\n",
      "bytearray(b'\\x11K\\x90\\x9c\\xb5\\xcc\\x16S\\x90\\xa7\"\\xf3Vv4F\\xf8hagf\\x7f&:H\\xe0* F\\xd5\\xd0\\xb5\\xd9!q\\xed\\xd5\\xb8\\xc3\\xa38}\\xc6\\xf7\\x0b\\xe8\\xc5U\\x82\\xb5\\xab\\x05\\xb8`F\\xb1\\x97(\\xbbd\\x0b\\x81C\\xdf')\n"
     ]
    }
   ],
   "source": [
    "text1=b''\n",
    "enc1=encryption_oracle(text1)\n",
    "print(enc1)\n",
    "text2=bytearray(str3,'ISO-8859-1')\n",
    "enc2=encryption_oracle(text2)\n",
    "print(enc2)"
   ]
  },
  {
   "cell_type": "code",
   "execution_count": 76,
   "metadata": {},
   "outputs": [
    {
     "name": "stdout",
     "output_type": "stream",
     "text": [
      "bytearray(b'\\x11K\\x90\\x9c\\xb5\\xcc\\x16S\\x90\\xa7\"\\xf3Vv4F\\xf8hagf\\x7f&:H\\xe0* F\\xd5\\xd0\\xb5\\xd9!q\\xed\\xd5\\xb8\\xc3\\xa38}\\xc6\\xf7\\x0b\\xe8\\xc5U')\n",
      "b'email=SSSSSSSSSSSSSSSSSSS@gmail.com&uid=10&role='\n"
     ]
    }
   ],
   "source": [
    "first_part_cipher=enc2[:48]\n",
    "print(first_part_cipher)\n",
    "print(decryption_oracle(first_part_cipher))"
   ]
  },
  {
   "cell_type": "code",
   "execution_count": 81,
   "metadata": {},
   "outputs": [
    {
     "name": "stdout",
     "output_type": "stream",
     "text": [
      "bytearray(b'\\x9d[n[<\\x1f\\xb2\\x9f/}=\\x04\\xae\\xc8t\\x85')\n"
     ]
    }
   ],
   "source": [
    "text3=b'admin'\n",
    "second_part_cipher=encryption_oracle(text3)\n",
    "print(second_part_cipher)"
   ]
  },
  {
   "cell_type": "code",
   "execution_count": 97,
   "metadata": {},
   "outputs": [
    {
     "name": "stdout",
     "output_type": "stream",
     "text": [
      "bytearray(b'\\x11K\\x90\\x9c\\xb5\\xcc\\x16S\\x90\\xa7\"\\xf3Vv4F\\xf8hagf\\x7f&:H\\xe0* F\\xd5\\xd0\\xb5\\xd9!q\\xed\\xd5\\xb8\\xc3\\xa38}\\xc6\\xf7\\x0b\\xe8\\xc5U\\x9d[n[<\\x1f\\xb2\\x9f/}=\\x04\\xae\\xc8t\\x85')\n",
      "email=SSSSSSSSSSSSSSSSSSS@gmail.com&uid=10&role=admin\u0004\u0004\u0004\u0004\u0004\u0004\u0004\u0004\u0004\u0004\u0004\n",
      "{\n",
      "\temail: 'SSSSSSSSSSSSSSSSSSS@gmail.com',\n",
      "\tuid: '10',\n",
      "\trole: 'admin\u0004\u0004\u0004\u0004\u0004\u0004\u0004\u0004\u0004\u0004\u0004'\n",
      "}\n"
     ]
    }
   ],
   "source": [
    "cipher_text=first_part_cipher+second_part_cipher\n",
    "print(cipher_text)\n",
    "plain_text=decryption_oracle(cipher_text)\n",
    "print(plain_text.decode())\n",
    "print(parse(plain_text.decode()))"
   ]
  }
 ],
 "metadata": {
  "kernelspec": {
   "display_name": "Python 3",
   "language": "python",
   "name": "python3"
  },
  "language_info": {
   "codemirror_mode": {
    "name": "ipython",
    "version": 3
   },
   "file_extension": ".py",
   "mimetype": "text/x-python",
   "name": "python",
   "nbconvert_exporter": "python",
   "pygments_lexer": "ipython3",
   "version": "3.7.3"
  }
 },
 "nbformat": 4,
 "nbformat_minor": 2
}

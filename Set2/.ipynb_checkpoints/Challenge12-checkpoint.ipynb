{
 "cells": [
  {
   "cell_type": "code",
   "execution_count": 1,
   "metadata": {},
   "outputs": [],
   "source": [
    "def base64tobin(s):\n",
    "    bin1=\"\"\n",
    "    for x in s:\n",
    "        bin2=\"\"\n",
    "        if(x>='A' and x<='Z'):\n",
    "            bin2=bin(ord(x)-ord('A'))\n",
    "        elif(x>='a' and x<='z'):\n",
    "            bin2=bin(ord(x)-ord('a')+26)\n",
    "        elif(x>='0' and x<='9'):\n",
    "            bin2=bin(ord(x)-ord('0')+52)\n",
    "        elif(x=='+'):\n",
    "            bin2=bin(62)\n",
    "        elif(x=='/'):\n",
    "            bin2=bin(63)\n",
    "        bin2=bin2[2:]\n",
    "        while(len(bin2)<6):\n",
    "            bin2='0'+bin2\n",
    "        bin1+=bin2\n",
    "    return bin1\n",
    "def bintoascii(bin1):\n",
    "    while(len(bin1)%8!=0):\n",
    "        bin1='0'+bin1\n",
    "    ret=\"\"\n",
    "    for i in range(0,len(bin1),8):\n",
    "        ret+=chr(int(bin1[i:i+8],2))\n",
    "    return ret\n",
    "def base64toascii(s):\n",
    "    bin1=base64tobin(s)\n",
    "    return bintoascii(bin1)"
   ]
  },
  {
   "cell_type": "code",
   "execution_count": 238,
   "metadata": {},
   "outputs": [],
   "source": [
    "base64str=\"Um9sbGluJyBpbiBteSA1LjAKV2l0aCBteSByYWctdG9wIGRvd24gc28gbXkgaGFpciBjYW4gYmxvdwpUaGUgZ2lybGllcyBvbiBzdGFuZGJ5IHdhdmluZyBqdXN0IHRvIHNheSBoaQpEaWQgeW91IHN0b3A/IE5vLCBJIGp1c3QgZHJvdmUgYnkK\"\n",
    "ascii_str1=base64toascii(base64str)\n",
    "# print(ascii_str1)\n",
    "# print(len(ascii_str1))"
   ]
  },
  {
   "cell_type": "code",
   "execution_count": 239,
   "metadata": {},
   "outputs": [
    {
     "name": "stdout",
     "output_type": "stream",
     "text": [
      "b'Lx\\x01n#\\x8f{\\x98\\x83\\xdc\\xf0@\\xf5\\x89EM'\n",
      "16\n"
     ]
    }
   ],
   "source": [
    "block_size=16\n",
    "key=bytes(generate_random_bytes(block_size))\n",
    "print(key)\n",
    "print(len(key))"
   ]
  },
  {
   "cell_type": "code",
   "execution_count": 240,
   "metadata": {},
   "outputs": [],
   "source": [
    "import random\n",
    "from Cryptodome.Cipher import AES\n",
    "def generate_random_bytes(no_of_bytes):\n",
    "    return bytearray([random.randint(0,255) for i in range(no_of_bytes)])\n",
    "def encryption_oracle(s):\n",
    "    s+=bytearray(ascii_str1,'ascii')\n",
    "    reqd=block_size-len(s)%block_size\n",
    "    if(len(s)<block_size):\n",
    "        reqd=block_size-len(s)\n",
    "    if(reqd==0):\n",
    "        reqd=block_size\n",
    "    s+=bytearray([4]*reqd)\n",
    "#     print(s,\" \",len(s))\n",
    "    cipher=AES.new(key,AES.MODE_ECB)\n",
    "    return bytearray(cipher.encrypt(bytes(s)))"
   ]
  },
  {
   "cell_type": "code",
   "execution_count": 241,
   "metadata": {},
   "outputs": [
    {
     "name": "stdout",
     "output_type": "stream",
     "text": [
      "bytearray(b'h\\xfe\\xa2\\x82\\x9d\\xfdx\\xb0\\x96o`\\x9e\\xa8\\x17P\\x8d9\\x1e\\n\\x86\\x05c\\xa25\\x86\\x922\\xfe\\xad9\\xdb\\x01\\xa8\\xde\\xf6\\x0fP\\xa8\\x10\\xb8\\x11\\x07\\x9b\\xd1\\x1c\\xf2R\\xd4\\x02\\xb2\\x95\\xd9{\\xfe\\x83\\xba\\xdd\\xf9\\xc6\\x85\\xe4q\\x16\\x1cP>\\xf3\\x01\\xdd\\xfb\\xfa\\xaf\\xb3ch\\xaa\\xd5H*.\\xe3\\xed\\xe3\\xaf\\xbf\\x9f\\x8e\\x06\\xe5Y0b@\\xfc&A6\\x90Zm\\xdf&]\\x98n\\n\\x05\\xac\\xea\\x8bK\\x80\\x0b\\xa0\\xf4\\x14\\xba\\xdf-\\xf3pm)\\x8ax(\\xdcIl\\xf4/\\xaf\\xf9\\xad\\xec^x\\x1f\\xa6\\xe0x\\xe7\\x9a\\xd0P\\xc8\\xda\\x95*=n\\x16Qsw\\xa0\\xb9\\xc8t5gk\\xab\\x94\\xc5\\xd6\\xc0\\n\\x9e\\x9c\\xed\\x1d\\xe3p\\xb2t')\n",
      "bytearray(b'h\\xfe\\xa2\\x82\\x9d\\xfdx\\xb0\\x96o`\\x9e\\xa8\\x17P\\x8dC~\\xe0W\\xe7\\xfek\\xa2\\xcbY\\xc7:I\\xf89\\xca\\x1f\\x137\\x8f\\x91\\xbe\\xb1\\xd3\\xe6\\xde\\xe7\\xca\\xee\\xfc\\xa3\\x7f\\x8e\\xbb4T\\x0fh(U(\\x94\\x94s\\xb4K\\xbf\\x1f\\xd9\\x8e\\xc3p\\xa1\\xb5$\\x0cv\\x0bx2-\\xe7\\x1d\\xd2\\x7f\\x8f\\xc1\\xd6\\xb7\\xac1\\x87\\x08\\xce\\xfa\\xee\\xb4\\xa3\\x07\\x1b\\xa2\\x0f\\x16\\x86\\xd6\\xac\\x1b\\xf7\\xe1\\xb1\\xf0aE\\x8f\\xf3\\xe5\\xdb\\xf9\\x00\\x93\\xa8;\\xd9\\x8b\\x9d\\x06p\\x1f\\xc3\\xbao \\xe2\\x02\\xde|\\x11[Pg\\x9a\\xdc\\xf7\\x01\\xd8v\\xd9\\xffZ3\\xec\\xc3\\x98\\xe1\\r\\xd6P.\\xc5\\xe2-l\\xcc\\x93')   160\n"
     ]
    }
   ],
   "source": [
    "enc=encryption_oracle(bytearray(b'My Name is Shobhit Gupta'))\n",
    "print(enc)\n",
    "enc1=encryption_oracle(bytearray(b'My Name is Shobh'))\n",
    "print(enc1,\" \",len(enc1))"
   ]
  },
  {
   "cell_type": "code",
   "execution_count": 242,
   "metadata": {},
   "outputs": [
    {
     "name": "stdout",
     "output_type": "stream",
     "text": [
      "16   138\n"
     ]
    }
   ],
   "source": [
    "prev_len=len(encryption_oracle(bytearray()))\n",
    "# print(prev_len)\n",
    "blocksize=0\n",
    "strlen=0\n",
    "for i in range(1,256):\n",
    "    next_len = len(encryption_oracle(bytearray(b'A'*i)))\n",
    "    blocksize = next_len-prev_len\n",
    "    if blocksize!= 0:\n",
    "        strlen=prev_len-i\n",
    "        break\n",
    "print(blocksize,\" \",strlen)"
   ]
  },
  {
   "cell_type": "code",
   "execution_count": 243,
   "metadata": {},
   "outputs": [
    {
     "name": "stdout",
     "output_type": "stream",
     "text": [
      "bytearray(b'h\\xfe\\xa2\\x82\\x9d\\xfdx\\xb0\\x96o`\\x9e\\xa8\\x17P\\x8d9\\x1e\\n\\x86\\x05c\\xa25\\x86\\x922\\xfe\\xad9\\xdb\\x01\\xa8\\xde\\xf6\\x0fP\\xa8\\x10\\xb8\\x11\\x07\\x9b\\xd1\\x1c\\xf2R\\xd4\\x02\\xb2\\x95\\xd9{\\xfe\\x83\\xba\\xdd\\xf9\\xc6\\x85\\xe4q\\x16\\x1cP>\\xf3\\x01\\xdd\\xfb\\xfa\\xaf\\xb3ch\\xaa\\xd5H*.\\xe3\\xed\\xe3\\xaf\\xbf\\x9f\\x8e\\x06\\xe5Y0b@\\xfc&A6\\x90Zm\\xdf&]\\x98n\\n\\x05\\xac\\xea\\x8bK\\x80\\x0b\\xa0\\xf4\\x14\\xba\\xdf-\\xf3pm)\\x8ax(\\xdcIl\\xf4/\\xaf\\xf9\\xad\\xec^x\\x1f\\xa6\\xe0x\\xe7\\x9a\\xd0P\\xc8\\xda\\x95*=n\\x16Qsw\\xa0\\xb9\\xc8t5gk\\xab\\x94\\xc5\\xd6\\xc0\\n\\x9e\\x9c\\xed\\x1d\\xe3p\\xb2t')\n"
     ]
    }
   ],
   "source": [
    "msg=b\"My Name is Shobhit Gupta\"\n",
    "print(encryption_oracle(bytearray(msg)))"
   ]
  },
  {
   "cell_type": "code",
   "execution_count": 244,
   "metadata": {},
   "outputs": [
    {
     "name": "stdout",
     "output_type": "stream",
     "text": [
      "bytearray(b'\\x05\\xbcw\\x91iY9rhJ\\x08\\x7f1\\xeb(\\x82\\x05\\xbcw\\x91iY9rhJ\\x08\\x7f1\\xeb(\\x82\\x05\\xbcw\\x91iY9rhJ\\x08\\x7f1\\xeb(\\x82\\x1e\\x052\\x08a\\x04P \\x057b\\xf3\\x08\\x9e}\\x8d\\xa7\\xfd\\x1c\\xd4/\\x8e+:\\x14\\x92\\xe1\\xe7y\\xa9\\xbd\\xbe}a*\\x01\\x88\\x10\\x0c\\x93\\n8S\\x13\\x1b\\x1e\\xa4\\xdfC\\xe8F\\x82{6\\x02T\\xd32K\\xa6\\xb4\\xff\\x946\\x9b\\x9a\\xc4\\xa6\\xf1\\x05\\xf8\\xa8\\xb3V?\\x15|\\x9fQ\\x85\\xf5EJ3C\\xc2mA)\\x00\\xf3\\\\\\x8d\\xa9\\x92eKd\\x8af\\xe9\\\\_o\\xf2\\xf5\\x99\\x17\\x97\\x8d\\t\\x8d{A\\xd8\\x82\\xbdf%%\\xccA\\xc37\\xe6\\xa8\\xad\\x88\\xc1\\xa0\\xe6\\n\\xdb\\xbf;\\xd2q\\xeb!\\xa2\\xbb\\xb7\\nEP\\x9e\\x0byos\\x88e\\xd3\\xaeR\\x9a\\xbb\\xab\\x12s')\n"
     ]
    }
   ],
   "source": [
    "msg1=b'A'*60\n",
    "print(encryption_oracle(bytearray(msg1)))"
   ]
  },
  {
   "cell_type": "code",
   "execution_count": 245,
   "metadata": {},
   "outputs": [
    {
     "name": "stdout",
     "output_type": "stream",
     "text": [
      "bytearray(b'!\\x19\\x1c\\x84!\\x0fX\\xa0\\xc3\\xdd\\xfb\\x90\\xf8\\xb8\\x19\\x1e\"\\xcf\\x90\\xf5e \\xa3\\xeb\\x86\\xf4\\xbc\\x08K\\xc8AF=\\xea\\xf0\\xa6\\x01@\\x1fS+\\xee\\xfd\\x17\\xf3\\x10\\xb0\\xabH>\\x8a\\xc9\\x92N\\x16\\xff\\x82\\x90\\x13fE\\xa3\\xcd\\xa4\\xcb*\\xbb\\xa5&\\xecm\\xc0\\nx\\x0c\\xa2\\xd4\\x89\\x04\\xc5\\x1a6\\xf9P\"\\xa8Z\\xb4\\xbd\\x1f\\xe3lU\\xee\\x91\\xd7t\\xe5\\x0f\\xed\\xddB\\x8bgN\\xc3Xj{Z\\xe7=\\xb6f\\xf6Q\\x12qE\\x84\\xfcU\\x14\\x8bSz\\x16\\x8f\\x0e/\\x89,z\\xd5.\\xac\\x12\\xcb\\xda\\x96\\xae\\x0c\\x1d37<\\x1eB\\xb1\\xfc\\xa5\\x9b\\x95\\x90\\xc2n\\xe0\\xbf\\xbev')\n"
     ]
    }
   ],
   "source": [
    "msg=bytearray(b'A'*14)\n",
    "enc=encryption_oracle(msg)\n",
    "print(enc)"
   ]
  },
  {
   "cell_type": "code",
   "execution_count": 246,
   "metadata": {},
   "outputs": [
    {
     "name": "stdout",
     "output_type": "stream",
     "text": [
      "bytearray(b'!\\x19\\x1c\\x84!\\x0fX\\xa0\\xc3\\xdd\\xfb\\x90\\xf8\\xb8\\x19\\x1eC~\\xe0W\\xe7\\xfek\\xa2\\xcbY\\xc7:I\\xf89\\xca\\x1f\\x137\\x8f\\x91\\xbe\\xb1\\xd3\\xe6\\xde\\xe7\\xca\\xee\\xfc\\xa3\\x7f\\x8e\\xbb4T\\x0fh(U(\\x94\\x94s\\xb4K\\xbf\\x1f\\xd9\\x8e\\xc3p\\xa1\\xb5$\\x0cv\\x0bx2-\\xe7\\x1d\\xd2\\x7f\\x8f\\xc1\\xd6\\xb7\\xac1\\x87\\x08\\xce\\xfa\\xee\\xb4\\xa3\\x07\\x1b\\xa2\\x0f\\x16\\x86\\xd6\\xac\\x1b\\xf7\\xe1\\xb1\\xf0aE\\x8f\\xf3\\xe5\\xdb\\xf9\\x00\\x93\\xa8;\\xd9\\x8b\\x9d\\x06p\\x1f\\xc3\\xbao \\xe2\\x02\\xde|\\x11[Pg\\x9a\\xdc\\xf7\\x01\\xd8v\\xd9\\xffZ3\\xec\\xc3\\x98\\xe1\\r\\xd6P.\\xc5\\xe2-l\\xcc\\x93')\n"
     ]
    }
   ],
   "source": [
    "msg1=bytearray(b'A'*14+b'R'+b'o')\n",
    "print(encryption_oracle(msg1))"
   ]
  },
  {
   "cell_type": "code",
   "execution_count": 247,
   "metadata": {},
   "outputs": [
    {
     "name": "stdout",
     "output_type": "stream",
     "text": [
      "Rollin' in my 5.0\n",
      "With my rag-top down so my hair can blow\n",
      "The girlies on standby waving just to say hi\n",
      "Did you stop? No, I just drove by\n",
      "\n"
     ]
    }
   ],
   "source": [
    "findstr=\"\"\n",
    "pad_strlen=(strlen//block_size+1)*block_size\n",
    "# print(pad_strlen)\n",
    "for i in range(pad_strlen-1,0,-1):\n",
    "    msg2='A'*i\n",
    "    c1=encryption_oracle(bytearray(msg2,\"ISO-8859-1\"))[:pad_strlen]\n",
    "    for ascii_value in range(0,256):\n",
    "        msg3='A'*i+findstr+chr(ascii_value)\n",
    "        c2=encryption_oracle(bytearray(msg3,\"ISO-8859-1\"))[:pad_strlen]\n",
    "        if(c1==c2):\n",
    "            findstr+=chr(ascii_value)\n",
    "            break\n",
    "print(findstr[:strlen])"
   ]
  }
 ],
 "metadata": {
  "kernelspec": {
   "display_name": "Python 3",
   "language": "python",
   "name": "python3"
  },
  "language_info": {
   "codemirror_mode": {
    "name": "ipython",
    "version": 3
   },
   "file_extension": ".py",
   "mimetype": "text/x-python",
   "name": "python",
   "nbconvert_exporter": "python",
   "pygments_lexer": "ipython3",
   "version": "3.7.3"
  }
 },
 "nbformat": 4,
 "nbformat_minor": 2
}

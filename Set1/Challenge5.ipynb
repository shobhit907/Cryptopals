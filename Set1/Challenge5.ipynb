{
 "cells": [
  {
   "cell_type": "code",
   "execution_count": 27,
   "metadata": {},
   "outputs": [
    {
     "name": "stdout",
     "output_type": "stream",
     "text": [
      "Burning 'em, if you ain't quick and nimble I go crazy when I hear a cymbal\n"
     ]
    }
   ],
   "source": [
    "s=input()"
   ]
  },
  {
   "cell_type": "code",
   "execution_count": 28,
   "metadata": {},
   "outputs": [],
   "source": [
    "def string_to_bin(s):\n",
    "    res=\"\"\n",
    "    for i in range(len(s)):\n",
    "        num=ord(s[i]);\n",
    "        bin1=bin(num);\n",
    "        bin1=bin1[2:]\n",
    "        while(len(bin1)%8!=0):\n",
    "            bin1='0'+bin1\n",
    "        res+=bin1\n",
    "    return res"
   ]
  },
  {
   "cell_type": "code",
   "execution_count": 32,
   "metadata": {},
   "outputs": [
    {
     "name": "stdout",
     "output_type": "stream",
     "text": [
      "0100001001110101011100100110111001101001011011100110011100100000001001110110010101101101001011000010000001101001011001100010000001111001011011110111010100100000011000010110100101101110001001110111010000100000011100010111010101101001011000110110101100100000011000010110111001100100001000000110111001101001011011010110001001101100011001010010000001001001001000000110011101101111001000000110001101110010011000010111101001111001001000000111011101101000011001010110111000100000010010010010000001101000011001010110000101110010001000000110000100100000011000110111100101101101011000100110000101101100\n",
      "010010010100001101000101\n"
     ]
    }
   ],
   "source": [
    "bin1=string_to_bin(s)\n",
    "bin2=string_to_bin(\"ICE\")\n",
    "print(bin1)\n",
    "print(bin2)"
   ]
  },
  {
   "cell_type": "code",
   "execution_count": 47,
   "metadata": {},
   "outputs": [],
   "source": [
    "def do_xor(s,temp):\n",
    "    i=0\n",
    "    j=0\n",
    "    out=\"\"\n",
    "    while(i<len(s)):\n",
    "        if(s[i]=='1' and temp[j]=='0' or s[i]=='0' and temp[j]=='1'):\n",
    "            out=out+'1'\n",
    "        else:\n",
    "            out=out+'0'\n",
    "        i=i+1\n",
    "        j=j+1\n",
    "        if(j==len(temp)):\n",
    "            j=0\n",
    "    return out"
   ]
  },
  {
   "cell_type": "code",
   "execution_count": 48,
   "metadata": {},
   "outputs": [
    {
     "name": "stdout",
     "output_type": "stream",
     "text": [
      "0000101100110110001101110010011100101010001010110010111001100011011000100010110000101110011010010110100100101010001000110110100100111010001010100011110001100011001001000010000000101101011000100011110101100011001101000011110000101010001001100010001001100011001001000010011100100111011001010010011100101010001010000010101100101111001000000110100100001010011001010010111000101100011001010010101000110001001001000011001100111010011001010011111000101011001000000010011101100011000011000110100100101011001000000010100000110001011001010010100001100011001001100011000000101110001001110010100000101111\n"
     ]
    }
   ],
   "source": [
    "res1=do_xor(bin1,bin2)\n",
    "print(res1)"
   ]
  },
  {
   "cell_type": "code",
   "execution_count": 49,
   "metadata": {},
   "outputs": [],
   "source": [
    "while(len(res1)%4!=0):\n",
    "    res1='0'+res1"
   ]
  },
  {
   "cell_type": "code",
   "execution_count": 52,
   "metadata": {},
   "outputs": [
    {
     "name": "stdout",
     "output_type": "stream",
     "text": [
      "0b3637272a2b2e63622c2e69692a23693a2a3c6324202d623d63343c2a26226324272765272a282b2f20690a652e2c652a3124333a653e2b2027630c692b20283165286326302e27282f\n"
     ]
    }
   ],
   "source": [
    "res=\"\"\n",
    "for i in range(0,len(res1),4):\n",
    "    res+=hex(int(res1[i:i+4],2))[2:]\n",
    "print(res)"
   ]
  }
 ],
 "metadata": {
  "kernelspec": {
   "display_name": "Python 3",
   "language": "python",
   "name": "python3"
  },
  "language_info": {
   "codemirror_mode": {
    "name": "ipython",
    "version": 3
   },
   "file_extension": ".py",
   "mimetype": "text/x-python",
   "name": "python",
   "nbconvert_exporter": "python",
   "pygments_lexer": "ipython3",
   "version": "3.7.3"
  }
 },
 "nbformat": 4,
 "nbformat_minor": 2
}

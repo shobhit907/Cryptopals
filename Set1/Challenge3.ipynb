{
 "cells": [
  {
   "cell_type": "code",
   "execution_count": 1,
   "metadata": {},
   "outputs": [
    {
     "name": "stdout",
     "output_type": "stream",
     "text": [
      "1b37373331363f78151b7f2b783431333d78397828372d363c78373e783a393b3736\n"
     ]
    }
   ],
   "source": [
    "s=input()"
   ]
  },
  {
   "cell_type": "code",
   "execution_count": 6,
   "metadata": {},
   "outputs": [
    {
     "data": {
      "text/plain": [
       "'11011001101110011011100110011001100010011011000111111011110000001010100011011011111110010101101111000001101000011000100110011001111010111100000111001011110000010100000110111001011010011011000111100011110000011011100111110011110000011101000111001001110110011011100110110'"
      ]
     },
     "execution_count": 6,
     "metadata": {},
     "output_type": "execute_result"
    }
   ],
   "source": [
    "bin1=bin(int(s,16))\n",
    "bin1=bin1[2:]\n",
    "bin1"
   ]
  },
  {
   "cell_type": "code",
   "execution_count": 8,
   "metadata": {},
   "outputs": [
    {
     "data": {
      "text/plain": [
       "'00011011001101110011011100110011001100010011011000111111011110000001010100011011011111110010101101111000001101000011000100110011001111010111100000111001011110000010100000110111001011010011011000111100011110000011011100111110011110000011101000111001001110110011011100110110'"
      ]
     },
     "execution_count": 8,
     "metadata": {},
     "output_type": "execute_result"
    }
   ],
   "source": [
    "while(len(bin1)%8!=0):\n",
    "    bin1='0'+bin1\n",
    "bin1"
   ]
  },
  {
   "cell_type": "code",
   "execution_count": 12,
   "metadata": {},
   "outputs": [],
   "source": [
    "def do_xor(s,temp):\n",
    "    i=0\n",
    "    j=0\n",
    "    out=\"\"\n",
    "    while(i<len(s)):\n",
    "        if(s[i]=='1' and temp[j]=='0' or s[i]=='0' and temp[j]=='1'):\n",
    "            out=out+'1'\n",
    "        else:\n",
    "            out=out+'0'\n",
    "        i=i+1\n",
    "        j=j+1\n",
    "        if(j==8):\n",
    "            j=0\n",
    "    return out"
   ]
  },
  {
   "cell_type": "code",
   "execution_count": 23,
   "metadata": {},
   "outputs": [],
   "source": [
    "def to_english(bin1):\n",
    "    ans=\"\"\n",
    "    while(len(bin1)%8!=0):\n",
    "        bin1='0'+bin1\n",
    "    for i in range(0,len(bin1),8):\n",
    "        temp=bin1[i:i+8]\n",
    "        ans=ans+chr(int(temp,2))\n",
    "    return ans"
   ]
  },
  {
   "cell_type": "code",
   "execution_count": 81,
   "metadata": {},
   "outputs": [],
   "source": [
    "def is_valid(s):\n",
    "    freq={}\n",
    "    for i in s:\n",
    "        if i in freq:\n",
    "            freq[i]+=1\n",
    "        else:\n",
    "            freq[i]=1\n",
    "    count=0\n",
    "    if('.' in freq):\n",
    "        count+=freq['.']\n",
    "    if(' ' in freq):\n",
    "        count+=freq[' ']\n",
    "    for i in range(ord('a'),ord('z')+1):\n",
    "        if(chr(i) in freq):\n",
    "            count+=freq[chr(i)]\n",
    "    for i in range(ord('A'),ord('Z')+1):\n",
    "        if(chr(i) in freq):\n",
    "            count+=freq[chr(i)]\n",
    "    for i in range(ord('0'),ord('9')+1):\n",
    "        if(chr(i) in freq):\n",
    "            count+=freq[chr(i)]\n",
    "    if(len(s)-count<=len(s)/10):\n",
    "        return True\n",
    "    else:\n",
    "        return False"
   ]
  },
  {
   "cell_type": "code",
   "execution_count": 82,
   "metadata": {},
   "outputs": [
    {
     "name": "stdout",
     "output_type": "stream",
     "text": [
      "Key =  X  Text =  Cooking MC's like a pound of bacon\n"
     ]
    }
   ],
   "source": [
    "for i in range(33,256):\n",
    "    temp=bin(i)\n",
    "    temp=temp[2:]\n",
    "    while(len(temp)%8!=0):\n",
    "        temp='0'+temp\n",
    "    out=do_xor(bin1,temp)\n",
    "    text=to_english(out)\n",
    "    flag=is_valid(text)\n",
    "    if(flag):\n",
    "        print(\"Key = \",chr(i),\" Text = \",text)"
   ]
  },
  {
   "cell_type": "markdown",
   "metadata": {},
   "source": [
    "Solution is:\n",
    "Key =  X  Text =  Cooking MC's like a pound of bacon"
   ]
  },
  {
   "cell_type": "code",
   "execution_count": null,
   "metadata": {},
   "outputs": [],
   "source": []
  }
 ],
 "metadata": {
  "kernelspec": {
   "display_name": "Python 3",
   "language": "python",
   "name": "python3"
  },
  "language_info": {
   "codemirror_mode": {
    "name": "ipython",
    "version": 3
   },
   "file_extension": ".py",
   "mimetype": "text/x-python",
   "name": "python",
   "nbconvert_exporter": "python",
   "pygments_lexer": "ipython3",
   "version": "3.7.3"
  }
 },
 "nbformat": 4,
 "nbformat_minor": 2
}

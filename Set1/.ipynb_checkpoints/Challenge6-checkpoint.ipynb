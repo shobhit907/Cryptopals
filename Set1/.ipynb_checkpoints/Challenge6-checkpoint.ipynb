{
 "cells": [
  {
   "cell_type": "code",
   "execution_count": 9,
   "metadata": {},
   "outputs": [],
   "source": [
    "def string_to_bin(s):\n",
    "    res=\"\"\n",
    "    for i in range(len(s)):\n",
    "        num=ord(s[i]);\n",
    "        bin1=bin(num);\n",
    "        bin1=bin1[2:]\n",
    "        while(len(bin1)%8!=0):\n",
    "            bin1='0'+bin1\n",
    "        res+=bin1\n",
    "    return res"
   ]
  },
  {
   "cell_type": "code",
   "execution_count": 7,
   "metadata": {},
   "outputs": [],
   "source": [
    "def hamming_dis(s1,s2):\n",
    "    bin1=string_to_bin(s1)\n",
    "    bin2=string_to_bin(s2)\n",
    "    c=0\n",
    "    for i in range(min(len(bin1),len(bin2))):\n",
    "        if(bin1[i]=='1' and bin2[i]=='0' or bin1[i]=='0' and bin2[i]=='1'):\n",
    "            c+=1\n",
    "    return c"
   ]
  },
  {
   "cell_type": "code",
   "execution_count": 10,
   "metadata": {
    "collapsed": true
   },
   "outputs": [
    {
     "data": {
      "text/plain": [
       "37"
      ]
     },
     "execution_count": 10,
     "metadata": {},
     "output_type": "execute_result"
    }
   ],
   "source": [
    "hamming_dis(\"this is a test\",\"wokka wokka!!!\")"
   ]
  },
  {
   "cell_type": "code",
   "execution_count": 111,
   "metadata": {},
   "outputs": [],
   "source": [
    "def guess_key_size(s):\n",
    "    key_size={}\n",
    "    for i in range(2,40):\n",
    "        temp1=s[0:i]\n",
    "        temp2=s[i:2*i]\n",
    "        temp3=s[2*i:3*i]\n",
    "        temp4=s[3*i:4*i]\n",
    "        temp5=s[4*i:5*i]\n",
    "        key_size[i]=(hamming_dis(temp1,temp2)+hamming_dis(temp2,temp3)+hamming_dis(temp3,temp4)+hamming_dis(temp4,temp5))/(4*i)\n",
    "#         key_size[i]=hamming_dis(temp1,temp2)/i\n",
    "#     for (k,v) in key_size.items():\n",
    "#         print(k,\" \",v)\n",
    "    poss_size=[]\n",
    "    count=0\n",
    "    for (k,v) in sorted(key_size.items(),key=lambda kv:kv[1]):\n",
    "        poss_size.append(k)\n",
    "        count+=1\n",
    "        if(count==10):\n",
    "            break\n",
    "#     poss_size.sort()\n",
    "    return poss_size"
   ]
  },
  {
   "cell_type": "code",
   "execution_count": 112,
   "metadata": {},
   "outputs": [
    {
     "data": {
      "text/plain": [
       "[2, 5, 29, 3, 18, 31, 20, 15, 13, 9]"
      ]
     },
     "execution_count": 112,
     "metadata": {},
     "output_type": "execute_result"
    }
   ],
   "source": [
    "guess_key_size(ascii_s)"
   ]
  },
  {
   "cell_type": "code",
   "execution_count": 122,
   "metadata": {},
   "outputs": [],
   "source": [
    "s=\"\"\n",
    "with open(\"6.txt\",'r') as f:\n",
    "    for l in f.readlines():\n",
    "        s+=l.rstrip()\n",
    "# print(s)"
   ]
  },
  {
   "cell_type": "code",
   "execution_count": 110,
   "metadata": {},
   "outputs": [],
   "source": [
    "ascii_s=base64toascii(s)\n",
    "# print(ascii_s)"
   ]
  },
  {
   "cell_type": "code",
   "execution_count": 95,
   "metadata": {},
   "outputs": [],
   "source": [
    "def base64tobin(s):\n",
    "    bin1=\"\"\n",
    "    for x in s:\n",
    "        bin2=\"\"\n",
    "        if(x>='A' and x<='Z'):\n",
    "            bin2=bin(ord(x)-ord('A'))\n",
    "        elif(x>='a' and x<='z'):\n",
    "            bin2=bin(ord(x)-ord('a')+26)\n",
    "        elif(x>='0' and x<='9'):\n",
    "            bin2=bin(ord(x)-ord('0')+52)\n",
    "        elif(x=='+'):\n",
    "            bin2=bin(62)\n",
    "        elif(x=='/'):\n",
    "            bin2=bin(63)\n",
    "        bin2=bin2[2:]\n",
    "        while(len(bin2)<6):\n",
    "            bin2='0'+bin2\n",
    "        bin1+=bin2\n",
    "    return bin1"
   ]
  },
  {
   "cell_type": "code",
   "execution_count": 105,
   "metadata": {},
   "outputs": [],
   "source": [
    "def base64toascii(s):\n",
    "    bin1=base64tobin(s)\n",
    "    while(len(bin1)%8!=0):\n",
    "        bin1='0'+bin1\n",
    "    ret=\"\"\n",
    "    for i in range(0,len(bin1),8):\n",
    "        ret+=chr(int(bin1[i:i+8],2))\n",
    "    return ret"
   ]
  },
  {
   "cell_type": "code",
   "execution_count": 106,
   "metadata": {},
   "outputs": [
    {
     "name": "stdout",
     "output_type": "stream",
     "text": [
      "Man is distinguished, not only by his reason, but by this singular passion from other animals, which is a lust of the mind, that by a perseverance of delight in the continued and indefatigable generation of knowledge, exceeds the short vehemence of any carnal pleasure.\u0000\n"
     ]
    }
   ],
   "source": [
    "s1=base64toascii(\"TWFuIGlzIGRpc3Rpbmd1aXNoZWQsIG5vdCBvbmx5IGJ5IGhpcyByZWFzb24sIGJ1dCBieSB0aGlzIHNpbmd1bGFyIHBhc3Npb24gZnJvbSBvdGhlciBhbmltYWxzLCB3aGljaCBpcyBhIGx1c3Qgb2YgdGhlIG1pbmQsIHRoYXQgYnkgYSBwZXJzZXZlcmFuY2Ugb2YgZGVsaWdodCBpbiB0aGUgY29udGludWVkIGFuZCBpbmRlZmF0aWdhYmxlIGdlbmVyYXRpb24gb2Yga25vd2xlZGdlLCBleGNlZWRzIHRoZSBzaG9ydCB2ZWhlbWVuY2Ugb2YgYW55IGNhcm5hbCBwbGVhc3VyZS4=\")\n",
    "print(s1)"
   ]
  },
  {
   "cell_type": "code",
   "execution_count": 113,
   "metadata": {},
   "outputs": [],
   "source": [
    "def freq_dist(s):\n",
    "    freq={}\n",
    "    for i in s:\n",
    "        if i in freq:\n",
    "            freq[i]+=1\n",
    "        else:\n",
    "            freq[i]=1\n",
    "    return freq"
   ]
  },
  {
   "cell_type": "code",
   "execution_count": 120,
   "metadata": {},
   "outputs": [
    {
     "name": "stdout",
     "output_type": "stream",
     "text": [
      "['T', 'e', 'r', 'm', 'i', 'n', 'a', 't', 'o', 'r', ' ', 'X', ':', ' ', 'B', 'r', 'i', 'n', 'g', ' ', 't', 'h', 'e', ' ', 'n', 'o', 'i', 's', 'e']\n",
      "Terminator X: Bring the noise\n"
     ]
    }
   ],
   "source": [
    "# for sz in poss_size:\n",
    "sz=29\n",
    "l=[]\n",
    "keybits=[]\n",
    "for i in range(0,sz):\n",
    "    temp=\"\".join([ascii_s[j] for j in range(i,len(ascii_s),sz)])\n",
    "    keybits.append(find_xor((sorted(freq_dist(temp).items(),key=lambda kv:kv[1],reverse=True))[0][0],' '))\n",
    "print(keybits)\n",
    "print(\"\".join(keybits))"
   ]
  },
  {
   "cell_type": "code",
   "execution_count": 121,
   "metadata": {},
   "outputs": [
    {
     "name": "stdout",
     "output_type": "stream",
     "text": [
      "I'm back and I'm ringin' the bell \n",
      "A rockin' on the mike while the fly girls yell \n",
      "In ecstasy in the back of me \n",
      "Well that's my DJ Deshay cuttin' all them Z's \n",
      "Hittin' hard and the girlies goin' crazy \n",
      "Vanilla's on the mike, man I'm not lazy. \n",
      "\n",
      "I'm lettin' my drug kick in \n",
      "It controls my mouth and I begin \n",
      "To just let it flow, let my concepts go \n",
      "My posse's to the side yellin', Go Vanilla Go! \n",
      "\n",
      "Smooth 'cause that's the way I will be \n",
      "And if you don't give a damn, then \n",
      "Why you starin' at me \n",
      "So get off 'cause I control the stage \n",
      "There's no dissin' allowed \n",
      "I'm in my own phase \n",
      "The girlies sa y they love me and that is ok \n",
      "And I can dance better than any kid n' play \n",
      "\n",
      "Stage 2 -- Yea the one ya' wanna listen to \n",
      "It's off my head so let the beat play through \n",
      "So I can funk it up and make it sound good \n",
      "1-2-3 Yo -- Knock on some wood \n",
      "For good luck, I like my rhymes atrocious \n",
      "Supercalafragilisticexpialidocious \n",
      "I'm an effect and that you can bet \n",
      "I can take a fly girl and make her wet. \n",
      "\n",
      "I'm like Samson -- Samson to Delilah \n",
      "There's no denyin', You can try to hang \n",
      "But you'll keep tryin' to get my style \n",
      "Over and over, practice makes perfect \n",
      "But not if you're a loafer. \n",
      "\n",
      "You'll get nowhere, no place, no time, no girls \n",
      "Soon -- Oh my God, homebody, you probably eat \n",
      "Spaghetti with a spoon! Come on and say it! \n",
      "\n",
      "VIP. Vanilla Ice yep, yep, I'm comin' hard like a rhino \n",
      "Intoxicating so you stagger like a wino \n",
      "So punks stop trying and girl stop cryin' \n",
      "Vanilla Ice is sellin' and you people are buyin' \n",
      "'Cause why the freaks are jockin' like Crazy Glue \n",
      "Movin' and groovin' trying to sing along \n",
      "All through the ghetto groovin' this here song \n",
      "Now you're amazed by the VIP posse. \n",
      "\n",
      "Steppin' so hard like a German Nazi \n",
      "Startled by the bases hittin' ground \n",
      "There's no trippin' on mine, I'm just gettin' down \n",
      "Sparkamatic, I'm hangin' tight like a fanatic \n",
      "You trapped me once and I thought that \n",
      "You might have it \n",
      "So step down and lend me your ear \n",
      "'89 in my time! You, '90 is my year. \n",
      "\n",
      "You're weakenin' fast, YO! and I can tell it \n",
      "Your body's gettin' hot, so, so I can smell it \n",
      "So don't be mad and don't be sad \n",
      "'Cause the lyrics belong to ICE, You can call me Dad \n",
      "You're pitchin' a fit, so step back and endure \n",
      "Let the witch doctor, Ice, do the dance to cure \n",
      "So come up close and don't be square \n",
      "You wanna battle me -- Anytime, anywhere \n",
      "\n",
      "You thought that I was weak, Boy, you're dead wrong \n",
      "So come on, everybody and sing this song \n",
      "\n",
      "Say -- Play that funky music Say, go white boy, go white boy go \n",
      "play that funky music Go white boy, go white boy, go \n",
      "Lay down and boogie and play that funky music till you die. \n",
      "\n",
      "Play that funky music Come on, Come on, let me hear \n",
      "Play that funky music white boy you say it, say it \n",
      "Play that funky music A little louder now \n",
      "Play that funky music, white boy Come on, Come on, Come on \n",
      "Play that funky music \n",
      "n\n"
     ]
    }
   ],
   "source": [
    "res=\"\"\n",
    "j=0\n",
    "for i in range(0,len(ascii_s)):   \n",
    "    res+=find_xor(ascii_s[i],keybits[j])\n",
    "    j+=1\n",
    "    if(j==sz):\n",
    "        j=0\n",
    "print(res)"
   ]
  },
  {
   "cell_type": "code",
   "execution_count": 123,
   "metadata": {},
   "outputs": [],
   "source": [
    "def find_xor(ch1,ch2):\n",
    "    num=ord(ch1) ^ ord(ch2)\n",
    "    return chr(num)"
   ]
  },
  {
   "cell_type": "code",
   "execution_count": 23,
   "metadata": {},
   "outputs": [
    {
     "data": {
      "text/plain": [
       "'a'"
      ]
     },
     "execution_count": 23,
     "metadata": {},
     "output_type": "execute_result"
    }
   ],
   "source": [
    "find_xor('A',' ')"
   ]
  }
 ],
 "metadata": {
  "kernelspec": {
   "display_name": "Python 3",
   "language": "python",
   "name": "python3"
  },
  "language_info": {
   "codemirror_mode": {
    "name": "ipython",
    "version": 3
   },
   "file_extension": ".py",
   "mimetype": "text/x-python",
   "name": "python",
   "nbconvert_exporter": "python",
   "pygments_lexer": "ipython3",
   "version": "3.7.3"
  }
 },
 "nbformat": 4,
 "nbformat_minor": 2
}

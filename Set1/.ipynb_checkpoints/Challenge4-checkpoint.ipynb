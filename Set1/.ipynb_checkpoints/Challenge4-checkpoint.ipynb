{
 "cells": [
  {
   "cell_type": "code",
   "execution_count": 25,
   "metadata": {},
   "outputs": [],
   "source": [
    "with open(\"4.txt\",'r') as f:\n",
    "    with open(\"4out.txt\",'w') as wf:\n",
    "        i=0\n",
    "        for s in f.readlines():\n",
    "            i+=1\n",
    "            l=decrypt_hex(s)\n",
    "            for s1 in l:\n",
    "                wf.write(str(i)+\" : \" +s1+\"\\n\")"
   ]
  },
  {
   "cell_type": "markdown",
   "metadata": {},
   "source": [
    "Solution is:\n",
    "171 : Key = 5 Text = Now that the party is jumping"
   ]
  },
  {
   "cell_type": "code",
   "execution_count": 23,
   "metadata": {},
   "outputs": [],
   "source": [
    "def do_xor(s,temp):\n",
    "    i=0\n",
    "    j=0\n",
    "    out=\"\"\n",
    "    while(i<len(s)):\n",
    "        if(s[i]=='1' and temp[j]=='0' or s[i]=='0' and temp[j]=='1'):\n",
    "            out=out+'1'\n",
    "        else:\n",
    "            out=out+'0'\n",
    "        i=i+1\n",
    "        j=j+1\n",
    "        if(j==8):\n",
    "            j=0\n",
    "    return out\n",
    "\n",
    "def to_english(bin1):\n",
    "    ans=\"\"\n",
    "    while(len(bin1)%8!=0):\n",
    "        bin1='0'+bin1\n",
    "    for i in range(0,len(bin1),8):\n",
    "        temp=bin1[i:i+8]\n",
    "        ans=ans+chr(int(temp,2))\n",
    "    return ans\n",
    "\n",
    "def is_valid(s):\n",
    "    freq={}\n",
    "    for i in s:\n",
    "        if i in freq:\n",
    "            freq[i]+=1\n",
    "        else:\n",
    "            freq[i]=1\n",
    "    count=0\n",
    "    if('.' in freq):\n",
    "        count+=freq['.']\n",
    "    if(' ' in freq):\n",
    "        count+=freq[' ']\n",
    "    for i in range(ord('a'),ord('z')+1):\n",
    "        if(chr(i) in freq):\n",
    "            count+=freq[chr(i)]\n",
    "    for i in range(ord('A'),ord('Z')+1):\n",
    "        if(chr(i) in freq):\n",
    "            count+=freq[chr(i)]\n",
    "    for i in range(ord('0'),ord('9')+1):\n",
    "        if(chr(i) in freq):\n",
    "            count+=freq[chr(i)]\n",
    "    if(len(s)-count<=len(s)/10):\n",
    "#     if(count>=len(s)*3/4)\n",
    "        return True\n",
    "    else:\n",
    "        return False\n",
    "\n",
    "def decrypt_hex(s):\n",
    "    bin1=bin(int(s,16))\n",
    "    bin1=bin1[2:]\n",
    "    while(len(bin1)%8!=0):\n",
    "        bin1='0'+bin1\n",
    "    l=[]\n",
    "    for i in range(33,256):\n",
    "        temp=bin(i)\n",
    "        temp=temp[2:]\n",
    "        while(len(temp)%8!=0):\n",
    "            temp='0'+temp\n",
    "        out=do_xor(bin1,temp)\n",
    "        text=to_english(out)\n",
    "        flag=is_valid(text)\n",
    "        if(flag):\n",
    "            s1=\"Key = \"+chr(i)+\" Text = \"+text\n",
    "#             print(str)\n",
    "            l.append(s1)\n",
    "    return l"
   ]
  }
 ],
 "metadata": {
  "kernelspec": {
   "display_name": "Python 3",
   "language": "python",
   "name": "python3"
  },
  "language_info": {
   "codemirror_mode": {
    "name": "ipython",
    "version": 3
   },
   "file_extension": ".py",
   "mimetype": "text/x-python",
   "name": "python",
   "nbconvert_exporter": "python",
   "pygments_lexer": "ipython3",
   "version": "3.7.3"
  }
 },
 "nbformat": 4,
 "nbformat_minor": 2
}

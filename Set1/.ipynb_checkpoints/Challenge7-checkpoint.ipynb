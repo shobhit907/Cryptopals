{
 "cells": [
  {
   "cell_type": "code",
   "execution_count": 1,
   "metadata": {
    "scrolled": true
   },
   "outputs": [],
   "source": [
    "s=\"\"\n",
    "with open(\"7.txt\",'r') as f:\n",
    "    for l in f.readlines():\n",
    "        s+=l.rstrip()\n",
    "# print(s)"
   ]
  },
  {
   "cell_type": "code",
   "execution_count": 24,
   "metadata": {
    "scrolled": true
   },
   "outputs": [],
   "source": [
    "# pip install pycryptodome"
   ]
  },
  {
   "cell_type": "code",
   "execution_count": 2,
   "metadata": {},
   "outputs": [],
   "source": [
    "from Cryptodome.Cipher import AES"
   ]
  },
  {
   "cell_type": "code",
   "execution_count": 3,
   "metadata": {},
   "outputs": [],
   "source": [
    "def base64tobin(s):\n",
    "    bin1=\"\"\n",
    "    for x in s:\n",
    "        bin2=\"\"\n",
    "        if(x>='A' and x<='Z'):\n",
    "            bin2=bin(ord(x)-ord('A'))\n",
    "        elif(x>='a' and x<='z'):\n",
    "            bin2=bin(ord(x)-ord('a')+26)\n",
    "        elif(x>='0' and x<='9'):\n",
    "            bin2=bin(ord(x)-ord('0')+52)\n",
    "        elif(x=='+'):\n",
    "            bin2=bin(62)\n",
    "        elif(x=='/'):\n",
    "            bin2=bin(63)\n",
    "        bin2=bin2[2:]\n",
    "        while(len(bin2)<6):\n",
    "            bin2='0'+bin2\n",
    "        bin1+=bin2\n",
    "    return bin1\n",
    "def bintoascii(bin1):\n",
    "    while(len(bin1)%8!=0):\n",
    "        bin1='0'+bin1\n",
    "    ret=\"\"\n",
    "    for i in range(0,len(bin1),8):\n",
    "        ret+=chr(int(bin1[i:i+8],2))\n",
    "    return ret\n",
    "def base64toascii(s):\n",
    "    bin1=base64tobin(s)\n",
    "    return bintoascii(bin1)"
   ]
  },
  {
   "cell_type": "code",
   "execution_count": 23,
   "metadata": {},
   "outputs": [],
   "source": [
    "bin_s=base64tobin(s)\n",
    "ascii_s=base64toascii(s)\n",
    "# print(ascii_s)\n",
    "# print(len(bin_s))\n",
    "while(len(bin_s)%128!=0):\n",
    "    bin_s='0'+bin_s\n",
    "# while(len(ascii_s)%128!=0):\n",
    "#     ascii_s=ascii_s+'\\x04'\n",
    "# print(bin_s)\n",
    "# print(len(bin_s))"
   ]
  },
  {
   "cell_type": "code",
   "execution_count": 6,
   "metadata": {},
   "outputs": [],
   "source": [
    "def string_to_bin(s):\n",
    "    res=\"\"\n",
    "    for i in range(len(s)):\n",
    "        num=ord(s[i]);\n",
    "        bin1=bin(num);\n",
    "        bin1=bin1[2:]\n",
    "        while(len(bin1)%8!=0):\n",
    "            bin1='0'+bin1\n",
    "        res+=bin1\n",
    "    return res"
   ]
  },
  {
   "cell_type": "code",
   "execution_count": 31,
   "metadata": {},
   "outputs": [],
   "source": [
    "key=b'YELLOW SUBMARINE'\n",
    "# key_bin=string_to_bin(key)\n",
    "# print(key_bin)\n",
    "# len(key_bin)"
   ]
  },
  {
   "cell_type": "code",
   "execution_count": 40,
   "metadata": {
    "scrolled": true
   },
   "outputs": [
    {
     "name": "stdout",
     "output_type": "stream",
     "text": [
      "I'm back and I'm ringin' the bell \n",
      "A rockin' on the mike while the fly girls yell \n",
      "In ecstasy in the back of me \n",
      "Well that's my DJ Deshay cuttin' all them Z's \n",
      "Hittin' hard and the girlies goin' crazy \n",
      "Vanilla's on the mike, man I'm not lazy. \n",
      "\n",
      "I'm lettin' my drug kick in \n",
      "It controls my mouth and I begin \n",
      "To just let it flow, let my concepts go \n",
      "My posse's to the side yellin', Go Vanilla Go! \n",
      "\n",
      "Smooth 'cause that's the way I will be \n",
      "And if you don't give a damn, then \n",
      "Why you starin' at me \n",
      "So get off 'cause I control the stage \n",
      "There's no dissin' allowed \n",
      "I'm in my own phase \n",
      "The girlies sa y they love me and that is ok \n",
      "And I can dance better than any kid n' play \n",
      "\n",
      "Stage 2 -- Yea the one ya' wanna listen to \n",
      "It's off my head so let the beat play through \n",
      "So I can funk it up and make it sound good \n",
      "1-2-3 Yo -- Knock on some wood \n",
      "For good luck, I like my rhymes atrocious \n",
      "Supercalafragilisticexpialidocious \n",
      "I'm an effect and that you can bet \n",
      "I can take a fly girl and make her wet. \n",
      "\n",
      "I'm like Samson -- Samson to Delilah \n",
      "There's no denyin', You can try to hang \n",
      "But you'll keep tryin' to get my style \n",
      "Over and over, practice makes perfect \n",
      "But not if you're a loafer. \n",
      "\n",
      "You'll get nowhere, no place, no time, no girls \n",
      "Soon -- Oh my God, homebody, you probably eat \n",
      "Spaghetti with a spoon! Come on and say it! \n",
      "\n",
      "VIP. Vanilla Ice yep, yep, I'm comin' hard like a rhino \n",
      "Intoxicating so you stagger like a wino \n",
      "So punks stop trying and girl stop cryin' \n",
      "Vanilla Ice is sellin' and you people are buyin' \n",
      "'Cause why the freaks are jockin' like Crazy Glue \n",
      "Movin' and groovin' trying to sing along \n",
      "All through the ghetto groovin' this here song \n",
      "Now you're amazed by the VIP posse. \n",
      "\n",
      "Steppin' so hard like a German Nazi \n",
      "Startled by the bases hittin' ground \n",
      "There's no trippin' on mine, I'm just gettin' down \n",
      "Sparkamatic, I'm hangin' tight like a fanatic \n",
      "You trapped me once and I thought that \n",
      "You might have it \n",
      "So step down and lend me your ear \n",
      "'89 in my time! You, '90 is my year. \n",
      "\n",
      "You're weakenin' fast, YO! and I can tell it \n",
      "Your body's gettin' hot, so, so I can smell it \n",
      "So don't be mad and don't be sad \n",
      "'Cause the lyrics belong to ICE, You can call me Dad \n",
      "You're pitchin' a fit, so step back and endure \n",
      "Let the witch doctor, Ice, do the dance to cure \n",
      "So come up close and don't be square \n",
      "You wanna battle me -- Anytime, anywhere \n",
      "\n",
      "You thought that I was weak, Boy, you're dead wrong \n",
      "So come on, everybody and sing this song \n",
      "\n",
      "Say -- Play that funky music Say, go white boy, go white boy go \n",
      "play that funky music Go white boy, go white boy, go \n",
      "Lay down and boogie and play that funky music till you die. \n",
      "\n",
      "Play that funky music Come on, Come on, let me hear \n",
      "Play that funky music white boy you say it, say it \n",
      "Play that funky music A little louder now \n",
      "Play that funky music, white boy Come on, Come on, Come on \n",
      "Play that funky music \n",
      "\u0004\u0004\u0004\u0004\n"
     ]
    }
   ],
   "source": [
    "cipher=AES.new(key,AES.MODE_ECB)\n",
    "b = bytearray()\n",
    "b.extend(map(ord, ascii_s))\n",
    "# print([x for x in b])\n",
    "# print(b)\n",
    "plaintext=cipher.decrypt(b)\n",
    "# print(plaintext)\n",
    "print(plaintext.decode())"
   ]
  }
 ],
 "metadata": {
  "kernelspec": {
   "display_name": "Python 3",
   "language": "python",
   "name": "python3"
  },
  "language_info": {
   "codemirror_mode": {
    "name": "ipython",
    "version": 3
   },
   "file_extension": ".py",
   "mimetype": "text/x-python",
   "name": "python",
   "nbconvert_exporter": "python",
   "pygments_lexer": "ipython3",
   "version": "3.7.3"
  }
 },
 "nbformat": 4,
 "nbformat_minor": 2
}
